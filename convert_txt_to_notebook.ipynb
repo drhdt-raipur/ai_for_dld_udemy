{
  "nbformat": 4,
  "nbformat_minor": 0,
  "metadata": {
    "colab": {
      "provenance": []
    },
    "kernelspec": {
      "name": "python3",
      "display_name": "Python 3"
    },
    "language_info": {
      "name": "python"
    }
  },
  "cells": [
    {
      "cell_type": "code",
      "execution_count": 2,
      "metadata": {
        "id": "bHaOvQIOLP4r",
        "colab": {
          "base_uri": "https://localhost:8080/",
          "height": 368
        },
        "outputId": "f9be7cd1-c785-439e-dc82-7e5f3125a8a3"
      },
      "outputs": [
        {
          "output_type": "display_data",
          "data": {
            "text/plain": [
              "<IPython.core.display.HTML object>"
            ],
            "text/html": [
              "\n",
              "<textarea id=\"markdownInput\" style=\"width:100%;height:300px;\" placeholder=\"Paste your markdown here...\"></textarea><br>\n",
              "<button onclick=\"google.colab.kernel.invokeFunction('notebook.convert_markdown_to_ipynb', [document.getElementById('markdownInput').value], {})\">\n",
              "Generate Notebook and Download\n",
              "</button>\n"
            ]
          },
          "metadata": {}
        },
        {
          "output_type": "display_data",
          "data": {
            "text/plain": [
              "<IPython.core.display.Javascript object>"
            ],
            "application/javascript": [
              "\n",
              "    async function download(id, filename, size) {\n",
              "      if (!google.colab.kernel.accessAllowed) {\n",
              "        return;\n",
              "      }\n",
              "      const div = document.createElement('div');\n",
              "      const label = document.createElement('label');\n",
              "      label.textContent = `Downloading \"${filename}\": `;\n",
              "      div.appendChild(label);\n",
              "      const progress = document.createElement('progress');\n",
              "      progress.max = size;\n",
              "      div.appendChild(progress);\n",
              "      document.body.appendChild(div);\n",
              "\n",
              "      const buffers = [];\n",
              "      let downloaded = 0;\n",
              "\n",
              "      const channel = await google.colab.kernel.comms.open(id);\n",
              "      // Send a message to notify the kernel that we're ready.\n",
              "      channel.send({})\n",
              "\n",
              "      for await (const message of channel.messages) {\n",
              "        // Send a message to notify the kernel that we're ready.\n",
              "        channel.send({})\n",
              "        if (message.buffers) {\n",
              "          for (const buffer of message.buffers) {\n",
              "            buffers.push(buffer);\n",
              "            downloaded += buffer.byteLength;\n",
              "            progress.value = downloaded;\n",
              "          }\n",
              "        }\n",
              "      }\n",
              "      const blob = new Blob(buffers, {type: 'application/binary'});\n",
              "      const a = document.createElement('a');\n",
              "      a.href = window.URL.createObjectURL(blob);\n",
              "      a.download = filename;\n",
              "      div.appendChild(a);\n",
              "      a.click();\n",
              "      div.remove();\n",
              "    }\n",
              "  "
            ]
          },
          "metadata": {}
        },
        {
          "output_type": "display_data",
          "data": {
            "text/plain": [
              "<IPython.core.display.Javascript object>"
            ],
            "application/javascript": [
              "download(\"download_fdcf188f-48db-4c90-ada4-a2b1552cd9e9\", \"generated_acbb76.ipynb\", 6978)"
            ]
          },
          "metadata": {}
        }
      ],
      "source": [
        "from IPython.display import HTML, display\n",
        "import nbformat as nbf\n",
        "import uuid\n",
        "from google.colab import files\n",
        "from google.colab import output\n",
        "\n",
        "# Step 1: Show HTML UI\n",
        "html_ui = \"\"\"\n",
        "<textarea id=\"markdownInput\" style=\"width:100%;height:300px;\" placeholder=\"Paste your markdown here...\"></textarea><br>\n",
        "<button onclick=\"google.colab.kernel.invokeFunction('notebook.convert_markdown_to_ipynb', [document.getElementById('markdownInput').value], {})\">\n",
        "Generate Notebook and Download\n",
        "</button>\n",
        "\"\"\"\n",
        "display(HTML(html_ui))\n",
        "\n",
        "# Step 2: Convert markdown to notebook and download it\n",
        "def convert_markdown_to_ipynb(markdown_text):\n",
        "    import re\n",
        "\n",
        "    lines = markdown_text.split('\\n')\n",
        "    cells = []\n",
        "    current_cell_lines = []\n",
        "    cell_type = 'markdown'\n",
        "\n",
        "    def flush_current():\n",
        "        if current_cell_lines:\n",
        "            if cell_type == 'code':\n",
        "                cells.append(nbf.v4.new_code_cell('\\n'.join(current_cell_lines)))\n",
        "            else:\n",
        "                content = '\\n'.join(current_cell_lines)\n",
        "                # Wrap collapsible <details> blocks with IPython HTML display if needed\n",
        "                if '<details' in content:\n",
        "                    content = f\"from IPython.display import HTML\\nHTML('''{content}''')\"\n",
        "                    cells.append(nbf.v4.new_code_cell(content))\n",
        "                else:\n",
        "                    cells.append(nbf.v4.new_markdown_cell(content))\n",
        "            current_cell_lines.clear()\n",
        "\n",
        "    for line in lines:\n",
        "        if line.strip().startswith(\"```\"):\n",
        "            flush_current()\n",
        "            cell_type = 'code' if cell_type == 'markdown' else 'markdown'\n",
        "        else:\n",
        "            current_cell_lines.append(line)\n",
        "\n",
        "    flush_current()\n",
        "\n",
        "    nb = nbf.v4.new_notebook()\n",
        "    nb['cells'] = cells\n",
        "    nb['metadata'] = {\n",
        "        \"kernelspec\": {\n",
        "            \"display_name\": \"Python 3\",\n",
        "            \"language\": \"python\",\n",
        "            \"name\": \"python3\"\n",
        "        },\n",
        "        \"language_info\": {\n",
        "            \"name\": \"python\",\n",
        "            \"version\": \"3.10\"\n",
        "        }\n",
        "    }\n",
        "\n",
        "    filename = f\"generated_{uuid.uuid4().hex[:6]}.ipynb\"\n",
        "    with open(filename, 'w', encoding='utf-8') as f:\n",
        "        nbf.write(nb, f)\n",
        "\n",
        "    files.download(filename)\n",
        "\n",
        "# Step 3: Register callback\n",
        "output.register_callback('notebook.convert_markdown_to_ipynb', convert_markdown_to_ipynb)"
      ]
    },
    {
      "cell_type": "markdown",
      "source": [
        "[▶️ Open TXT-to-Notebook Converter in Colab](https://colab.research.google.com/github/drhdt-raipur/ai_for_dld_udemy/blob/main/convert_txt_to_notebook.ipynb)\n"
      ],
      "metadata": {
        "id": "BK9eKjOIYNdR"
      }
    }
  ]
}