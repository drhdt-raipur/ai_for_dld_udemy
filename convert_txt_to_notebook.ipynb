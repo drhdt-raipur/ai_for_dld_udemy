{
  "nbformat": 4,
  "nbformat_minor": 0,
  "metadata": {
    "colab": {
      "provenance": [],
      "authorship_tag": "ABX9TyOsWMiLG1dN4s0RkRU9y6n3",
      "include_colab_link": true
    },
    "kernelspec": {
      "name": "python3",
      "display_name": "Python 3"
    },
    "language_info": {
      "name": "python"
    }
  },
  "cells": [
    {
      "cell_type": "markdown",
      "metadata": {
        "id": "view-in-github",
        "colab_type": "text"
      },
      "source": [
        "<a href=\"https://colab.research.google.com/github/drhdt-raipur/ai_for_dld_udemy/blob/main/convert_txt_to_notebook.ipynb\" target=\"_parent\"><img src=\"https://colab.research.google.com/assets/colab-badge.svg\" alt=\"Open In Colab\"/></a>"
      ]
    },
    {
      "cell_type": "code",
      "execution_count": null,
      "metadata": {
        "id": "bHaOvQIOLP4r"
      },
      "outputs": [],
      "source": [
        "from google.colab import files\n",
        "import nbformat as nbf\n",
        "\n",
        "# Step 1: Upload the markdown (.txt) file\n",
        "uploaded = files.upload()\n",
        "\n",
        "# Step 2: Use the first uploaded file\n",
        "filename = next(iter(uploaded))\n",
        "\n",
        "# Step 3: Read file content\n",
        "with open(filename, 'r', encoding='utf-8') as f:\n",
        "    content = f.read()\n",
        "\n",
        "# Step 4: Parse content into notebook cells\n",
        "lines = content.split('\\n')\n",
        "cells = []\n",
        "current_cell_lines = []\n",
        "cell_type = 'markdown'\n",
        "\n",
        "for line in lines:\n",
        "    if line.strip().startswith(\"```\"):  # toggle between code and markdown\n",
        "        if current_cell_lines:\n",
        "            cells.append(\n",
        "                nbf.v4.new_markdown_cell('\\n'.join(current_cell_lines)) if cell_type == 'markdown'\n",
        "                else nbf.v4.new_code_cell('\\n'.join(current_cell_lines))\n",
        "            )\n",
        "            current_cell_lines = []\n",
        "        cell_type = 'code' if cell_type == 'markdown' else 'markdown'\n",
        "    else:\n",
        "        current_cell_lines.append(line)\n",
        "\n",
        "if current_cell_lines:\n",
        "    cells.append(\n",
        "        nbf.v4.new_markdown_cell('\\n'.join(current_cell_lines)) if cell_type == 'markdown'\n",
        "        else nbf.v4.new_code_cell('\\n'.join(current_cell_lines))\n",
        "    )\n",
        "\n",
        "# Step 5: Create the notebook object\n",
        "nb = nbf.v4.new_notebook()\n",
        "nb['cells'] = cells\n",
        "nb['metadata'] = {\n",
        "    \"kernelspec\": {\n",
        "        \"display_name\": \"Python 3\",\n",
        "        \"language\": \"python\",\n",
        "        \"name\": \"python3\"\n",
        "    },\n",
        "    \"language_info\": {\n",
        "        \"name\": \"python\",\n",
        "        \"version\": \"3.10\"\n",
        "    }\n",
        "}\n",
        "\n",
        "# Step 6: Save and download\n",
        "output_filename = filename.replace('.txt', '.ipynb')\n",
        "with open(output_filename, 'w', encoding='utf-8') as f:\n",
        "    nbf.write(nb, f)\n",
        "\n",
        "files.download(output_filename)\n"
      ]
    }
  ]
}