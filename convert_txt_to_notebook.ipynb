{
  "nbformat": 4,
  "nbformat_minor": 0,
  "metadata": {
    "colab": {
      "provenance": []
    },
    "kernelspec": {
      "name": "python3",
      "display_name": "Python 3"
    },
    "language_info": {
      "name": "python"
    }
  },
  "cells": [
    {
      "cell_type": "code",
      "execution_count": 11,
      "metadata": {
        "id": "bHaOvQIOLP4r",
        "colab": {
          "base_uri": "https://localhost:8080/",
          "height": 368
        },
        "outputId": "cfdc1588-8758-44eb-936e-52bc52129826"
      },
      "outputs": [
        {
          "output_type": "display_data",
          "data": {
            "text/plain": [
              "<IPython.core.display.HTML object>"
            ],
            "text/html": [
              "\n",
              "<textarea id=\"markdownInput\" style=\"width:100%;height:300px;\" placeholder=\"Paste your markdown here...\"></textarea><br>\n",
              "<button onclick=\"google.colab.kernel.invokeFunction('notebook.convert_markdown_to_ipynb', [document.getElementById('markdownInput').value], {})\">\n",
              "Generate Notebook and Download\n",
              "</button>\n"
            ]
          },
          "metadata": {}
        },
        {
          "output_type": "display_data",
          "data": {
            "text/plain": [
              "<IPython.core.display.Javascript object>"
            ],
            "application/javascript": [
              "\n",
              "    async function download(id, filename, size) {\n",
              "      if (!google.colab.kernel.accessAllowed) {\n",
              "        return;\n",
              "      }\n",
              "      const div = document.createElement('div');\n",
              "      const label = document.createElement('label');\n",
              "      label.textContent = `Downloading \"${filename}\": `;\n",
              "      div.appendChild(label);\n",
              "      const progress = document.createElement('progress');\n",
              "      progress.max = size;\n",
              "      div.appendChild(progress);\n",
              "      document.body.appendChild(div);\n",
              "\n",
              "      const buffers = [];\n",
              "      let downloaded = 0;\n",
              "\n",
              "      const channel = await google.colab.kernel.comms.open(id);\n",
              "      // Send a message to notify the kernel that we're ready.\n",
              "      channel.send({})\n",
              "\n",
              "      for await (const message of channel.messages) {\n",
              "        // Send a message to notify the kernel that we're ready.\n",
              "        channel.send({})\n",
              "        if (message.buffers) {\n",
              "          for (const buffer of message.buffers) {\n",
              "            buffers.push(buffer);\n",
              "            downloaded += buffer.byteLength;\n",
              "            progress.value = downloaded;\n",
              "          }\n",
              "        }\n",
              "      }\n",
              "      const blob = new Blob(buffers, {type: 'application/binary'});\n",
              "      const a = document.createElement('a');\n",
              "      a.href = window.URL.createObjectURL(blob);\n",
              "      a.download = filename;\n",
              "      div.appendChild(a);\n",
              "      a.click();\n",
              "      div.remove();\n",
              "    }\n",
              "  "
            ]
          },
          "metadata": {}
        },
        {
          "output_type": "display_data",
          "data": {
            "text/plain": [
              "<IPython.core.display.Javascript object>"
            ],
            "application/javascript": [
              "download(\"download_412ae5f9-b73b-4998-9c49-cd2703f0ad7b\", \"generated_aad8b2.ipynb\", 9118)"
            ]
          },
          "metadata": {}
        }
      ],
      "source": [
        "from IPython.display import HTML, display\n",
        "import nbformat as nbf\n",
        "import uuid\n",
        "from google.colab import files\n",
        "from google.colab import output\n",
        "\n",
        "# Step 1: Show input UI\n",
        "html_ui = \"\"\"\n",
        "<textarea id=\"markdownInput\" style=\"width:100%;height:300px;\" placeholder=\"Paste your markdown here...\"></textarea><br>\n",
        "<button onclick=\"google.colab.kernel.invokeFunction('notebook.convert_markdown_to_ipynb', [document.getElementById('markdownInput').value], {})\">\n",
        "Generate Notebook and Download\n",
        "</button>\n",
        "\"\"\"\n",
        "display(HTML(html_ui))\n",
        "\n",
        "# Step 2: Parse and convert markdown\n",
        "def convert_markdown_to_ipynb(markdown_text):\n",
        "    lines = markdown_text.strip().split('\\n')\n",
        "    notebook_cells = []\n",
        "\n",
        "    inside_code_block = False\n",
        "    code_lines = []\n",
        "    markdown_buffer = []\n",
        "    section_title = None\n",
        "\n",
        "    def flush_markdown():\n",
        "        nonlocal section_title\n",
        "        if markdown_buffer:\n",
        "            content = '\\n'.join(markdown_buffer).strip()\n",
        "            if content:\n",
        "                if section_title:\n",
        "                    html_block = f\"\"\"<details open>\\n<summary><strong>{section_title}</strong></summary>\\n\\n{content}\\n\\n</details>\"\"\"\n",
        "                    notebook_cells.append(nbf.v4.new_markdown_cell(html_block))\n",
        "                    section_title = None  # reset after use\n",
        "                else:\n",
        "                    notebook_cells.append(nbf.v4.new_markdown_cell(content))\n",
        "            markdown_buffer.clear()\n",
        "\n",
        "    def flush_code():\n",
        "        if code_lines:\n",
        "            content = '\\n'.join(code_lines).strip()\n",
        "            if content:\n",
        "                notebook_cells.append(nbf.v4.new_code_cell(content))\n",
        "            code_lines.clear()\n",
        "\n",
        "    for line in lines:\n",
        "        if line.strip() == '---':\n",
        "            flush_markdown()\n",
        "            flush_code()\n",
        "            section_title = None\n",
        "            continue\n",
        "\n",
        "        if line.strip().startswith('```'):\n",
        "            if inside_code_block:\n",
        "                flush_code()\n",
        "                inside_code_block = False\n",
        "            else:\n",
        "                flush_markdown()\n",
        "                inside_code_block = True\n",
        "            continue\n",
        "\n",
        "        if inside_code_block:\n",
        "            code_lines.append(line)\n",
        "        else:\n",
        "            if line.strip().startswith('##'):\n",
        "                flush_markdown()\n",
        "                section_title = line.strip('# ').strip()\n",
        "            else:\n",
        "                markdown_buffer.append(line)\n",
        "\n",
        "    flush_markdown()\n",
        "    flush_code()\n",
        "\n",
        "    nb = nbf.v4.new_notebook()\n",
        "    nb['cells'] = notebook_cells\n",
        "    nb['metadata'] = {\n",
        "        \"kernelspec\": {\n",
        "            \"display_name\": \"Python 3\",\n",
        "            \"language\": \"python\",\n",
        "            \"name\": \"python3\"\n",
        "        },\n",
        "        \"language_info\": {\n",
        "            \"name\": \"python\",\n",
        "            \"version\": \"3.10\"\n",
        "        }\n",
        "    }\n",
        "\n",
        "    filename = f\"generated_{uuid.uuid4().hex[:6]}.ipynb\"\n",
        "    with open(filename, 'w', encoding='utf-8') as f:\n",
        "        nbf.write(nb, f)\n",
        "\n",
        "    files.download(filename)\n",
        "\n",
        "# Step 3: Register in Colab\n",
        "output.register_callback('notebook.convert_markdown_to_ipynb', convert_markdown_to_ipynb)\n"
      ]
    },
    {
      "cell_type": "markdown",
      "source": [
        "[▶️ Open TXT-to-Notebook Converter in Colab](https://colab.research.google.com/github/drhdt-raipur/ai_for_dld_udemy/blob/main/convert_txt_to_notebook.ipynb)\n"
      ],
      "metadata": {
        "id": "BK9eKjOIYNdR"
      }
    }
  ]
}