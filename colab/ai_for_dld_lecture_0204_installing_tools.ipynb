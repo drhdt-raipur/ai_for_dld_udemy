{
  "cells": [
    {
      "cell_type": "markdown",
      "id": "c4ae0232",
      "metadata": {
        "id": "c4ae0232"
      },
      "source": [
        "#Installing GHDL, Icarus, and Yosys in Google Colab"
      ]
    },
    {
      "cell_type": "markdown",
      "id": "4ab497ca",
      "metadata": {
        "id": "4ab497ca"
      },
      "source": [
        "<details open>\n",
        "<summary><strong>Introduction</strong></summary>\n",
        "\n",
        "Welcome to this lecture on setting up your HDL development environment using **Google Colab**.  \n",
        "In this course, you don’t need to install anything on your personal computer. Instead, we will perform all HDL simulation and synthesis tasks inside the cloud.\n",
        "\n",
        "By the end of this session, you will:\n",
        "- Understand which tools are required\n",
        "- Use AI to generate installation commands\n",
        "- Install GHDL, Yosys, and Icarus Verilog\n",
        "- Save your notebook and push it to GitHub\n",
        "\n",
        "This workflow is designed for beginners — no installation experience or Linux background is required. Everything is AI-assisted and browser-based.\n",
        "\n",
        "</details>"
      ]
    },
    {
      "cell_type": "markdown",
      "id": "0585a4de",
      "metadata": {
        "id": "0585a4de"
      },
      "source": [
        "<details open>\n",
        "<summary><strong>Tool of the Day</strong></summary>\n",
        "\n",
        "Today we will set up and work with the following tools:\n",
        "\n",
        "- **Google Colab**  \n",
        "  A cloud-based Python notebook environment that supports shell scripts and bash commands\n",
        "\n",
        "- **GHDL**  \n",
        "  An open-source simulator that supports both VHDL and Verilog (using LLVM backend)\n",
        "\n",
        "- **Icarus Verilog (iverilog)**  \n",
        "  A fast Verilog simulator, useful for testbenches and quick logic checks\n",
        "\n",
        "- **Yosys**  \n",
        "  An open-source logic synthesis tool that converts RTL code into gate-level netlists\n",
        "\n",
        "All of these are available via `apt` in Google Colab and require no local install.\n",
        "\n",
        "</details>"
      ]
    },
    {
      "cell_type": "markdown",
      "id": "79c7d31f",
      "metadata": {
        "id": "79c7d31f"
      },
      "source": [
        "<details open>\n",
        "<summary><strong>Core Concept and Expected Outcome</strong></summary>\n",
        "\n",
        "In this lecture, we will:\n",
        "\n",
        "- Use **AI to discover** the list of required tools and their purposes\n",
        "- Use **AI to generate** bash scripts for installing these tools\n",
        "- Run the installation commands inside Google Colab\n",
        "- Validate the installations using version check commands\n",
        "- Save the notebook to your GitHub repo for future reuse\n",
        "\n",
        "**Expected Outcome:** You will have a working HDL toolchain on Colab and your first documented AI-generated notebook pushed to GitHub.\n",
        "\n",
        "</details>"
      ]
    },
    {
      "cell_type": "markdown",
      "id": "3013989e",
      "metadata": {
        "id": "3013989e"
      },
      "source": [
        "<details open>\n",
        "<summary><strong>💬 Try this in ChatGPT or Gemini — Prompt 1: Discover the Tools</strong></summary>\n",
        "\n",
        "Expected Output:\n",
        "- GHDL for simulation  \n",
        "- Icarus Verilog for Verilog workflows  \n",
        "- Yosys for synthesis  \n",
        "- GTKWave for waveform visualization\n",
        "\n",
        "Use the AI output to annotate your own notes in the notebook.\n",
        "\n",
        "</details>"
      ]
    },
    {
      "cell_type": "code",
      "execution_count": null,
      "id": "6ee20420",
      "metadata": {
        "id": "6ee20420"
      },
      "outputs": [],
      "source": [
        "I am a beginner learning Verilog and VHDL.\n",
        "I want to simulate and synthesize digital circuits using Google Colab.\n",
        "Please tell me which open-source tools I need to install and\n",
        "explain what each one does in simple language."
      ]
    },
    {
      "cell_type": "markdown",
      "id": "384973dd",
      "metadata": {
        "id": "384973dd"
      },
      "source": [
        "<details open>\n",
        "<summary><strong>💬 Try this in ChatGPT or Gemini — Prompt 2: Generate Installation Script</strong></summary>\n",
        "\n",
        "Paste the output into a Colab code cell:\n",
        "\n",
        "</details>"
      ]
    },
    {
      "cell_type": "code",
      "execution_count": null,
      "id": "e50973b1",
      "metadata": {
        "id": "e50973b1"
      },
      "outputs": [],
      "source": [
        "Please generate a bash script that installs GHDL, Icarus Verilog (iverilog),\n",
        "Yosys, and GTKWave in a Debian-based system like Google Colab.\n",
        "Also include version check commands to\n",
        "verify each tool after installation."
      ]
    },
    {
      "cell_type": "markdown",
      "source": [
        "<details open>\n",
        "<summary><strong>Expected Output:\n",
        "</summary></strong>\n",
        "</details>"
      ],
      "metadata": {
        "id": "n6f683xLn5YT"
      },
      "id": "n6f683xLn5YT"
    },
    {
      "cell_type": "code",
      "execution_count": null,
      "id": "9637991e",
      "metadata": {
        "id": "9637991e"
      },
      "outputs": [],
      "source": [
        "# Install HDL tools\n",
        "!apt update && apt install -y ghdl iverilog yosys gtkwave\n",
        "\n",
        "# Verify installation\n",
        "!ghdl --version\n",
        "!iverilog -V\n",
        "!yosys -V"
      ]
    },
    {
      "cell_type": "markdown",
      "id": "978ccea0",
      "metadata": {
        "id": "978ccea0"
      },
      "source": [
        "Run the cell and confirm that each tool reports its version correctly."
      ]
    },
    {
      "cell_type": "markdown",
      "id": "f5447d40",
      "metadata": {
        "id": "f5447d40"
      },
      "source": [
        "<details open>\n",
        "<summary><strong>💬 Try this in ChatGPT or Gemini — Prompt 3: Run HDL Example</strong></summary>\n",
        "\n",
        "Expected response:\n",
        "\n",
        "* AND gate Verilog code\n",
        "* Testbench with stimulus\n",
        "* Bash commands to compile and simulate\n",
        "\n",
        "Paste that code into new cells and run it to verify your installation.\n",
        "\n",
        "</details>"
      ]
    },
    {
      "cell_type": "code",
      "execution_count": null,
      "id": "5d17dd9b",
      "metadata": {
        "id": "5d17dd9b"
      },
      "outputs": [],
      "source": [
        "Give me a Verilog module for a 2-input AND gate, along with a testbench.\n",
        "Also, provide instructions to simulate it using GHDL or\n",
        "iverilog inside Google Colab."
      ]
    },
    {
      "cell_type": "markdown",
      "id": "f3349674",
      "metadata": {
        "id": "f3349674"
      },
      "source": [
        "<details open>\n",
        "<summary><strong>💬 Try this in ChatGPT or Gemini — Prompt 4: Generate Complete Notebook</strong></summary>\n",
        "\n",
        "Steps:\n",
        "\n",
        "1. Copy the JSON output from AI\n",
        "2. Paste it into a `.txt` file and rename it as `.ipynb`\n",
        "3. Upload the notebook into Colab\n",
        "4. Run all cells to confirm output\n",
        "\n",
        "</details>"
      ]
    },
    {
      "cell_type": "code",
      "execution_count": null,
      "id": "58e0009d",
      "metadata": {
        "id": "58e0009d"
      },
      "outputs": [],
      "source": [
        "Generate a full Google Colab notebook in markdown format that includes:\n",
        "- Markdown sections explaining the tools\n",
        "- Code cells for installation\n",
        "- Simulation steps using GHDL, Icarus Verilog (iverilog) and creating VCD file\n",
        "- Simulation steps using GHDL\n",
        "Save it as Markdown text so I can rename it as .ipynb and upload to Colab."
      ]
    },
    {
      "cell_type": "markdown",
      "id": "38f2062b",
      "metadata": {
        "id": "38f2062b"
      },
      "source": [
        "<details open>\n",
        "<summary><strong>Viewing Waveform Output with GTKWave</summary></strong>\n",
        "\n",
        "When you simulate Verilog or VHDL code in Google Colab using **GHDL** or **Icarus Verilog**, a waveform file is generated with the `.vcd` (Value Change Dump) extension.  \n",
        "This file contains the timing information and signal changes in your digital circuit.\n",
        "\n",
        "### Why We Need an External Viewer\n",
        "\n",
        "Google Colab does not support GUI applications like GTKWave, so we cannot view `.vcd` files inside the notebook directly.  \n",
        "To visualize the waveform, we need to download the `.vcd` file and open it in a waveform viewer on your local computer.\n",
        "\n",
        "---\n",
        "\n",
        "## Step 1: Download GTKWave Portable (No Installation Required)\n",
        "\n",
        "GTKWave is a free and open-source waveform viewer.\n",
        "\n",
        "Use the following link to download the **Windows 64-bit portable version** (no admin rights or installation required):\n",
        "\n",
        "**[Download GTKWave Portable](https://sourceforge.net/projects/gtkwave/files/gtkwave-3.3.90-bin-win64/gtkwave-3.3.90-bin-win64.zip/download)**\n",
        "\n",
        "1. Extract the ZIP file to a known folder (e.g., Desktop or Downloads).\n",
        "2. Open the folder and double-click `gtkwave.exe` to launch the viewer.\n",
        "\n",
        "---\n",
        "\n",
        "## Step 2: Generate a `.vcd` File in Colab\n",
        "\n",
        "Run your Verilog module and testbench in Colab using this pattern:\n",
        "\n",
        "```bash\n",
        "# Compile and run Verilog code with vcd output\n",
        "!iverilog -o and_gate and_gate.v tb_and_gate.v\n",
        "!vvp and_gate\n",
        "````\n",
        "\n",
        "Make sure your testbench contains lines like:\n",
        "\n",
        "```verilog\n",
        "$dumpfile(\"output.vcd\");\n",
        "$dumpvars(0, and_gate);\n",
        "```\n",
        "\n",
        "This will generate a file named `output.vcd` in the Colab environment.\n",
        "\n",
        "---\n",
        "\n",
        "## Step 3: Download `.vcd` File from Colab\n",
        "\n",
        "Use this Python code cell to download the waveform file to your local system:\n",
        "\n",
        "```python\n",
        "from google.colab import files\n",
        "files.download('output.vcd')\n",
        "```\n",
        "\n",
        "When prompted, save the file somewhere accessible — for example, inside the same folder where you extracted GTKWave.\n",
        "\n",
        "---\n",
        "\n",
        "## Step 4: View the Waveform in GTKWave\n",
        "\n",
        "1. Open the `gtkwave.exe` file.\n",
        "2. From the GTKWave menu, choose **File → Open**.\n",
        "3. Navigate to the downloaded `output.vcd` file and open it.\n",
        "4. You will see a list of signals on the left.\n",
        "5. Double-click the signals you want to analyze.\n",
        "6. Click **Append** to add them to the waveform viewer.\n",
        "\n",
        "You can now analyze how signals behave over time in your simulated digital circuit.\n",
        "\n",
        "---\n",
        "\n",
        "## Summary\n",
        "\n",
        "* `.vcd` files are generated by testbenches for signal tracking\n",
        "* Colab cannot display them, but they can be downloaded\n",
        "* GTKWave portable allows you to view these waveforms without installing anything\n",
        "\n",
        "---\n",
        "</details>"
      ]
    },
    {
      "cell_type": "markdown",
      "id": "ab10fe2e",
      "metadata": {
        "id": "ab10fe2e"
      },
      "source": [
        "<details open>\n",
        "<summary><strong>Rubric or Checklist</strong></summary>\n",
        "\n",
        "| Task                                        | Status |\n",
        "| ------------------------------------------- | ------ |\n",
        "| Open-source tools identified                | ☐      |\n",
        "| AI-generated installation script created    | ☐      |\n",
        "| Script executed successfully in Colab       | ☐      |\n",
        "| HDL module simulated using installed tools  | ☐      |\n",
        "| Notebook saved to GitHub                    | ☐      |\n",
        "| Markdown explanations written and organized | ☐      |\n",
        "\n",
        "Tick all boxes before moving on.\n",
        "\n",
        "</details>"
      ]
    },
    {
      "cell_type": "markdown",
      "id": "d6bd1bbb",
      "metadata": {
        "id": "d6bd1bbb"
      },
      "source": [
        "<details open>\n",
        "<summary><strong>Thank You and What’s Next</strong></summary>\n",
        "\n",
        "You’ve successfully completed your **AI-assisted toolchain setup**!\n",
        "\n",
        "In the next lecture, we will begin **AI-powered HDL learning** by prompting ChatGPT or Gemini to explain HDL syntax, generate reusable modules, and simulate digital designs in the cloud.\n",
        "\n",
        "Make sure:\n",
        "\n",
        "* Your notebook is saved and working\n",
        "* GitHub token is safely stored\n",
        "* You are ready to begin coding your first logic module\n",
        "\n",
        "</details>"
      ]
    }
  ],
  "metadata": {
    "kernelspec": {
      "display_name": "Python 3",
      "language": "python",
      "name": "python3"
    },
    "language_info": {
      "name": "python",
      "version": "3.10"
    },
    "colab": {
      "provenance": []
    }
  },
  "nbformat": 4,
  "nbformat_minor": 5
}