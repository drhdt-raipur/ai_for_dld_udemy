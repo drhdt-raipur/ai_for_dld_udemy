{
  "cells": [
    {
      "cell_type": "markdown",
      "metadata": {
        "id": "view-in-github",
        "colab_type": "text"
      },
      "source": [
        "<a href=\"https://colab.research.google.com/github/drhdt-raipur/ai_for_dld_udemy/blob/main/colab/ai_for_dld_0203_hdl_tools_colab.ipynb\" target=\"_parent\"><img src=\"https://colab.research.google.com/assets/colab-badge.svg\" alt=\"Open In Colab\"/></a>"
      ]
    },
    {
      "cell_type": "markdown",
      "id": "2f6b3dc7",
      "metadata": {
        "id": "2f6b3dc7"
      },
      "source": [
        "# Installing GHDL, Icarus, and Yosys in Google Colab"
      ]
    },
    {
      "cell_type": "markdown",
      "id": "1708d84a",
      "metadata": {
        "id": "1708d84a"
      },
      "source": [
        "<details open>\n",
        "<summary><strong>📌 Introduction</strong></summary>\n",
        "\n",
        "In modern digital logic design, **simulation** and **synthesis** are the two essential workflows that bridge design ideas and real-world implementation. To perform these operations, professionals use tools like **GHDL**, **Icarus Verilog**, and **Yosys**.\n",
        "\n",
        "However, installing these tools locally often causes problems:\n",
        "- Different OS environments (Windows, Linux, macOS)\n",
        "- Complicated setup steps\n",
        "- Dependency mismatches and admin rights\n",
        "\n",
        "To solve this, we use **Google Colab**, a browser-based environment that:\n",
        "- Runs on any device\n",
        "- Requires no local installation\n",
        "- Supports Linux shell scripts and file persistence\n",
        "- Enables notebook-based, sharable workflows\n",
        "\n",
        "In this lecture, you will learn:\n",
        "- How to ask **Gemini in Colab** to install GHDL, Icarus, and Yosys\n",
        "- How to persist and reuse tool installations in a notebook\n",
        "- How to prepare your own environment for HDL simulation and synthesis\n",
        "\n",
        "You don’t need prior coding experience — AI will generate everything through structured prompts.\n",
        "\n",
        "</details>"
      ]
    },
    {
      "cell_type": "markdown",
      "id": "b059f27c",
      "metadata": {
        "id": "b059f27c"
      },
      "source": [
        "<details open>\n",
        "<summary><strong>🛠️ Tool of the Day</strong></summary>\n",
        "\n",
        "In this session, we use three open-source HDL tools along with **Google Colab** and **Gemini AI**:\n",
        "\n",
        "| Tool            | Purpose                                         | Role in Workflow                       |\n",
        "|-----------------|--------------------------------------------------|----------------------------------------|\n",
        "| **GHDL**        | Simulates **VHDL** code                          | Run, analyze, and debug digital circuits |\n",
        "| **Icarus Verilog (iverilog)** | Simulates **Verilog** code                | Create `.vcd` waveform for logic analysis |\n",
        "| **Yosys**       | Synthesizes Verilog into logic gates/netlist     | Transforms RTL to gate-level design    |\n",
        "| **Google Colab**| Cloud platform for execution and documentation   | Run shell commands, save HDL, use AI tools |\n",
        "| **Gemini AI**   | Google’s AI assistant integrated into Colab      | Generate shell scripts, HDL prompts, install code |\n",
        "\n",
        "</details>"
      ]
    },
    {
      "cell_type": "markdown",
      "id": "4fc9f77a",
      "metadata": {
        "id": "4fc9f77a"
      },
      "source": [
        "<details open>\n",
        "<summary><strong>🎯 Core Concept</strong></summary>\n",
        "\n",
        "To work with HDL in the cloud, we must install the tools each time the notebook restarts. Colab does not preserve system state. However, with the help of **Gemini**, we can:\n",
        "\n",
        "- Generate installation scripts automatically\n",
        "- Customize for VHDL or Verilog use\n",
        "- Add file-saving and output redirection\n",
        "- Document the full setup using markdown and shell cells\n",
        "\n",
        "You will walk away with:\n",
        "- A ready-to-use Colab notebook that installs GHDL, Icarus, and Yosys\n",
        "- AI-generated shell script blocks\n",
        "- File-saving mechanisms\n",
        "- Understanding of how toolchains interact\n",
        "\n",
        "</details>"
      ]
    },
    {
      "cell_type": "markdown",
      "id": "afb57647",
      "metadata": {
        "id": "afb57647"
      },
      "source": [
        "<details open>\n",
        "<summary><strong>🔹 AI Prompt 1 — Understand Concept and Installation Plan</strong></summary>\n",
        "\n",
        "Ask Gemini to first **explain** and **plan** the environment setup.\n",
        "\n",
        "</details>"
      ]
    },
    {
      "cell_type": "code",
      "execution_count": null,
      "id": "b37cb1bb",
      "metadata": {
        "id": "b37cb1bb"
      },
      "outputs": [],
      "source": [
        "\"💬 Try this in Gemini in Colab\"\n",
        "\n",
        "You are helping me set up a complete HDL simulation and synthesis environment in Google Colab.\n",
        "\n",
        "I want to install and use the following open-source tools:\n",
        "\n",
        "1. GHDL – for VHDL simulation\n",
        "2. Icarus Verilog (iverilog) – for Verilog simulation\n",
        "3. Yosys – for RTL synthesis of Verilog code\n",
        "\n",
        "Please do the following:\n",
        "\n",
        "* Explain what each tool does in simple terms\n",
        "* Tell me why these tools are used in digital design workflows\n",
        "* Describe how to use these tools inside a Colab notebook\n",
        "* Outline the sequence of steps to install all tools via shell commands\n",
        "* Mention common errors that might happen in Colab and how to fix them\n",
        "\n",
        "Do not give the installation code yet. First, just explain and plan the environment setup and add all the above information as text cell in current colab file\""
      ]
    },
    {
      "cell_type": "markdown",
      "id": "71847e9f",
      "metadata": {
        "id": "71847e9f"
      },
      "source": [
        "<details open>\n",
        "<summary><strong>🔹 AI Prompt 2 — Install HDL Tools in Google Colab</strong></summary>\n",
        "\n",
        "Use this structured prompt to **generate the actual shell script**.\n",
        "\n",
        "</details>"
      ]
    },
    {
      "cell_type": "code",
      "execution_count": null,
      "id": "c65e795f",
      "metadata": {
        "id": "c65e795f"
      },
      "outputs": [],
      "source": [
        "\"💬 Try this in Gemini in Colab\"\n",
        "\n",
        "Now generate a shell script that installs the following tools in a Google Colab notebook:\n",
        "\n",
        "1. GHDL (preferably the LLVM backend)\n",
        "2. Icarus Verilog (iverilog)\n",
        "3. Yosys\n",
        "\n",
        "Requirements:\n",
        "\n",
        "* Use `apt-get` and `wget` commands only\n",
        "* Ensure all tools are installed silently and correctly\n",
        "* Add shell comments for each step to explain what it’s doing\n",
        "* Include `apt update`, install dependencies, and set execution permissions\n",
        "* Add a final message: ✅ All tools installed\n",
        "* Wrap everything in a single bash cell (use `%%bash` at the **top** of the code cell in Colab to avoid Python syntax errors)\n",
        "* Remember that the script must be formatted with suitable syntax to run in the Colab environment\n",
        "* Do **not** run the script, just add the script in a proper code cell for me to run\n",
        "\n",
        "Once the tools are installed, also give me instructions on:\n",
        "\n",
        "* How to verify each tool is installed (show `--version` commands)\n",
        "* How to save this notebook\n",
        "* How to keep a copy of this setup in GitHub \""
      ]
    },
    {
      "cell_type": "markdown",
      "id": "04f71fad",
      "metadata": {
        "id": "04f71fad"
      },
      "source": [
        "<details open>\n",
        "<summary><strong>▶️ Next Step: Validate Your Setup with a Simple Simulation</strong></summary>\n",
        "\n",
        "Congratulations! You’ve completed the setup by installing:\n",
        "\n",
        "- **GHDL** – VHDL simulator  \n",
        "- **Icarus Verilog** – Verilog simulator  \n",
        "- **Yosys** – RTL synthesis tool  \n",
        "\n",
        "But installation alone isn’t enough. Let’s test these tools in action.\n",
        "\n",
        "To validate the setup:\n",
        "- You will simulate a simple **2-input AND gate**\n",
        "- You will use your preferred HDL (Verilog or VHDL)\n",
        "- Gemini will generate both **module** and **testbench**\n",
        "- Simulation results will be saved for download\n",
        "\n",
        "This will confirm that:\n",
        "- Your tools are installed correctly\n",
        "- You’re ready for hands-on HDL design in the next lectures\n",
        "\n",
        "</details>"
      ]
    },
    {
      "cell_type": "markdown",
      "id": "d47b03fb",
      "metadata": {
        "id": "d47b03fb"
      },
      "source": [
        "<details open>\n",
        "<summary><strong>🔹 AI Prompt 3 — Simulate a Simple HDL Circuit</strong></summary>\n",
        "\n",
        "Let’s now simulate a basic circuit using your installed tools.\n",
        "\n",
        "🧠 **Prompt:**\n",
        "\n",
        "</details>"
      ]
    },
    {
      "cell_type": "code",
      "execution_count": null,
      "id": "f3d4ef8a",
      "metadata": {
        "id": "f3d4ef8a"
      },
      "outputs": [],
      "source": [
        "\"💬 Try this in Gemini in Colab\"\n",
        "\n",
        "Now that we have installed GHDL, Icarus Verilog, and Yosys in Colab, please help me test whether the tools are functioning properly.\n",
        "\n",
        "Add appropriate text and script cells that does the following:\n",
        "\n",
        "1. We shall use two languages Verilog or VHDL\n",
        "2. For both the langauges, generate a basic AND gate module in that language alog with a comprehensive detail about that gate through text operation and truth tables. The explnation will be in text cell and the gate code will be in code cell.\n",
        "3. Write a testbench to simulate the module\n",
        "4. Use GHDL (for VHDL) and Icarus Verilog (for Verilog) to simulate\n",
        "5. Generate waveform files (e.g., `.vcd`)\n",
        "6. Provide the command to view the output useing GTKWave portable version offline.\n",
        "7. Include a Python code snippet to zip and download all output files\n",
        "\n",
        "Structure the notebook with proper markdown explanations and shell/script cells.\n",
        "Make sure all paths are accessible from within the Colab environment.\n",
        "Do not ask to run add the cells and let me run them independently. just add teh appropriate text and script cells. Do not add the cells for task and resoning while adding the cells\""
      ]
    },
    {
      "cell_type": "markdown",
      "id": "c9893c88",
      "metadata": {
        "id": "c9893c88"
      },
      "source": [
        "<details open>\n",
        "<summary><strong>💡 Want a Complete Notebook Generated by AI?</strong></summary>\n",
        "\n",
        "While Gemini is great for interactive design, sometimes we want the entire `.ipynb` notebook pre-generated in one go.\n",
        "\n",
        "That’s where **GitHub Copilot** comes in. It can output a complete **Colab-compatible JSON notebook** from a single prompt.\n",
        "\n",
        "We’ll now learn how to generate a downloadable notebook file directly using Copilot.\n",
        "\n",
        "</details>"
      ]
    },
    {
      "cell_type": "markdown",
      "id": "76bb23b2",
      "metadata": {
        "id": "76bb23b2"
      },
      "source": [
        "<details open>\n",
        "<summary><strong>📦 How to Use JSON Output from Copilot</strong></summary>\n",
        "\n",
        "When GitHub Copilot gives you notebook content in JSON format:\n",
        "\n",
        "1. **Copy the output** starting from `{ \"cells\": ... }`\n",
        "2. **Paste it into a plain `.txt` file**\n",
        "3. Rename the file as `hdl_install_and_test.ipynb`\n",
        "4. Upload it to [Google Colab](https://colab.research.google.com)\n",
        "5. Open and run it like any regular notebook\n",
        "\n",
        "📌 _Do not use screenshots or copy-paste code cells manually. Use the full JSON._\n",
        "\n",
        "</details>"
      ]
    },
    {
      "cell_type": "markdown",
      "id": "f57afe48",
      "metadata": {
        "id": "f57afe48"
      },
      "source": [
        "<details open>\n",
        "<summary><strong>🔹 AI Prompt 4 — Generate Complete Notebook File (.ipynb)</strong></summary>\n",
        "\n",
        "🧠 **Prompt:**\n",
        "\n",
        "</details>"
      ]
    },
    {
      "cell_type": "code",
      "execution_count": null,
      "id": "a034491f",
      "metadata": {
        "id": "a034491f"
      },
      "outputs": [],
      "source": [
        "\"💬 Try this in GitHub Copilot\"\n",
        "\n",
        "Generate a complete `.ipynb` notebook in JSON format.\n",
        "\n",
        "The notebook should perform the following tasks in Google Colab:\n",
        "\n",
        "1. Title: Installing GHDL, Icarus, and Yosys in Google Colab\n",
        "2. A markdown cell that explains the role of GHDL, Icarus Verilog, and Yosys in digital design\n",
        "3. A bash cell to install GHDL, Icarus Verilog, and Yosys (include apt-get update)\n",
        "4. A bash cell to confirm installation using `ghdl --version`, `iverilog -V`, and `yosys -V`\n",
        "5. A markdown cell informaing the user the HDL langauges which are being used i.e. both Verilog or VHDL for testing\n",
        "6. A code cell with the code for:\n",
        "   * AND gate module\n",
        "   * Testbench (based on chosen language)\n",
        "   * Codes will be generated for both Verilog and VHDL\n",
        "7. A shell cell to simulate using the appropriate tool\n",
        "8. A bash cell to generate `.vcd` waveform output\n",
        "9. A Python cell to zip and download all generated files\n",
        "10. A final markdown cell with ✅ installation success and GitHub upload tips\n",
        "\n",
        "Ensure all code and shell cells are correctly formatted in JSON. No extra output is required.\""
      ]
    },
    {
      "cell_type": "markdown",
      "id": "376dd123",
      "metadata": {
        "id": "376dd123"
      },
      "source": [
        "<details open>\n",
        "<summary><strong>💾 Save Your Notebook</strong></summary>\n",
        "\n",
        "Once your test simulation works, preserve it for reuse.\n",
        "\n",
        "</details>"
      ]
    },
    {
      "cell_type": "markdown",
      "id": "9d4b9a95",
      "metadata": {
        "id": "9d4b9a95"
      },
      "source": [
        "<details open>\n",
        "<summary><strong>✅ Save Locally in Colab</strong></summary>\n",
        "\n",
        "Run this command in a code cell to save your current notebook:\n",
        "\n",
        "</details>"
      ]
    },
    {
      "cell_type": "code",
      "execution_count": null,
      "id": "fb16160e",
      "metadata": {
        "id": "fb16160e"
      },
      "outputs": [],
      "source": [
        "from google.colab import _message\n",
        "_message.blocking_request('save')\n",
        "print(\"✅ Notebook saved successfully.\")"
      ]
    },
    {
      "cell_type": "markdown",
      "id": "a865a2dd",
      "metadata": {
        "id": "a865a2dd"
      },
      "source": [
        "<details open>\n",
        "<summary><strong>📤 Upload to GitHub</strong></summary>\n",
        "\n",
        "To share your work or use it across devices:\n",
        "\n",
        "1. Go to [github.com](https://github.com)\n",
        "2. Create a repository like `hdl-ai-colab`\n",
        "3. Upload your `.ipynb` inside a `/colab` folder\n",
        "4. Add a short README:\n",
        "\n",
        "   * What this notebook does\n",
        "   * Tools used\n",
        "   * Link to the notebook\n",
        "\n",
        "</details>"
      ]
    },
    {
      "cell_type": "markdown",
      "id": "4a1aac9e",
      "metadata": {
        "id": "4a1aac9e"
      },
      "source": [
        "<details open>\n",
        "<summary><strong>📚 Document in Notion</strong></summary>\n",
        "\n",
        "Keep your progress organized by pasting into Notion:\n",
        "\n",
        "* Prompts you used\n",
        "* Screenshots of `.vcd` outputs\n",
        "* Tool version outputs (`--version`)\n",
        "* Observations or errors\n",
        "\n",
        "</details>"
      ]
    },
    {
      "cell_type": "markdown",
      "id": "5414786c",
      "metadata": {
        "id": "5414786c"
      },
      "source": [
        "<details open>\n",
        "<summary><strong>✅ Rubric Checklist for Completion</strong></summary>\n",
        "\n",
        "Use this checklist to verify your work:\n",
        "\n",
        "| Task                                               | ✅ Status |\n",
        "| -------------------------------------------------- | -------- |\n",
        "| Tools installed with Gemini-generated shell script | ⬜        |\n",
        "| Verified `ghdl`, `iverilog`, and `yosys` versions  | ⬜        |\n",
        "| Generated HDL + testbench for AND gate             | ⬜        |\n",
        "| Simulation executed correctly using the right tool | ⬜        |\n",
        "| `.vcd` file generated and downloaded               | ⬜        |\n",
        "| Notebook saved in Colab                            | ⬜        |\n",
        "| Notebook uploaded to GitHub                        | ⬜        |\n",
        "| Prompts and observations stored in Notion          | ⬜        |\n",
        "\n",
        "Check each box as you complete your activity!\n",
        "\n",
        "</details>"
      ]
    },
    {
      "cell_type": "markdown",
      "id": "4e8cd7fc",
      "metadata": {
        "id": "4e8cd7fc"
      },
      "source": [
        "<details open>\n",
        "<summary><strong>🙏 Thank You + What’s Next</strong></summary>\n",
        "\n",
        "🎉 In this lecture, you:\n",
        "\n",
        "* Installed three major HDL tools with the help of AI\n",
        "* Validated your setup with a real simulation\n",
        "* Learned how to generate complete notebooks using GitHub Copilot\n",
        "* Saved and published your work using Colab + GitHub + Notion\n",
        "\n",
        "In the **next lecture**, we’ll start your HDL journey from the inside out — by generating your **first Verilog or VHDL circuit using AI prompts**.\n",
        "\n",
        "See you there, and keep building your AI-powered HDL lab!\n",
        "\n",
        "</details>"
      ]
    }
  ],
  "metadata": {
    "kernelspec": {
      "display_name": "Python 3",
      "language": "python",
      "name": "python3"
    },
    "language_info": {
      "name": "python",
      "version": "3.10"
    },
    "colab": {
      "provenance": [],
      "include_colab_link": true
    }
  },
  "nbformat": 4,
  "nbformat_minor": 5
}