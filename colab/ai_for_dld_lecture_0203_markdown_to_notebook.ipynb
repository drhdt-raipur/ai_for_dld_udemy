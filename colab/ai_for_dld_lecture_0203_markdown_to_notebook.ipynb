{
 "cells": [
  {
   "cell_type": "markdown",
   "id": "2e417863",
   "metadata": {},
   "source": [
    "# 🧭 Lecture: Creating Executable Notebooks from Markdown"
   ]
  },
  {
   "cell_type": "markdown",
   "id": "d8b9adf0",
   "metadata": {},
   "source": [
    "<details open>\n",
    "<summary><strong>1. Introduction</strong></summary>\n",
    "\n",
    "In this lecture, we will learn how to convert AI-generated or manually written **markdown content** into an executable **`.ipynb` Jupyter Notebook**.\n",
    "\n",
    "This step is **essential** for our AI-Augmented HDL workflow because:\n",
    "\n",
    "- Most of our lectures and prompts will generate markdown content (via ChatGPT or Gemini).\n",
    "- Google Colab does **not** accept `.txt` files directly as notebooks.\n",
    "- Learners need a reliable way to create `.ipynb` files **without local installation**.\n",
    "\n",
    "Our final goal is:\n",
    "📄 `.txt` (markdown) ➜ 📓 `.ipynb` notebook ➜ ☁️ GitHub ➜ 🔁 Usable in Colab\n",
    "\n",
    "</details>"
   ]
  },
  {
   "cell_type": "markdown",
   "id": "30a59a8e",
   "metadata": {},
   "source": [
    "<details open>\n",
    "<summary><strong>2. Why Markdown-to-Notebook Conversion Is Necessary</strong></summary>\n",
    "\n",
    "- **AI tools generate markdown**, not executable notebooks.\n",
    "- **Colab can only run `.ipynb`**, not `.txt`.\n",
    "- Instead of writing everything manually, we use a **Python script inside Colab** to automate this.\n",
    "- This step is **repeated in every lecture** in this course, so it is critical to understand.\n",
    "\n",
    "</details>"
   ]
  },
  {
   "cell_type": "markdown",
   "id": "29c21226",
   "metadata": {},
   "source": [
    "<details open>\n",
    "<summary><strong>3. What You’ll Learn in This Lecture</strong></summary>\n",
    "\n",
    "- How to paste your markdown content into a Colab notebook\n",
    "- How to generate a `.ipynb` file from it\n",
    "- How to upload that notebook to GitHub\n",
    "- How to create a **reusable Colab link** for future use\n",
    "\n",
    "</details>"
   ]
  },
  {
   "cell_type": "markdown",
   "id": "eb552e21",
   "metadata": {},
   "source": [
    "<details open>\n",
    "<summary><strong>4. Create Your Own Markdown-to-Notebook Converter</strong></summary>\n",
    "\n",
    "Let us now create our **own converter notebook** that we can reuse for every lecture.\n",
    "\n",
    "</details>"
   ]
  },
  {
   "cell_type": "markdown",
   "id": "81afe51f",
   "metadata": {},
   "source": [
    "<details open>\n",
    "<summary><strong>📋 Step-by-Step Instructions</strong></summary>\n",
    "\n",
    "1. Open a new Google Colab notebook.\n",
    "2. Copy and paste the following Python code into the first code cell:\n",
    "\n",
    "</details>"
   ]
  },
  {
   "cell_type": "code",
   "execution_count": null,
   "id": "f485d10b",
   "metadata": {},
   "outputs": [],
   "source": [
    "from IPython.display import HTML, display\n",
    "import nbformat as nbf\n",
    "import uuid\n",
    "from google.colab import files\n",
    "\n",
    "# Step 1: Show HTML input UI\n",
    "html_ui = \"\"\"\n",
    "<textarea id=\"markdownInput\" style=\"width:100%;height:300px;\" placeholder=\"Paste your markdown here...\"></textarea><br>\n",
    "<button onclick=\"google.colab.kernel.invokeFunction('notebook.convert_markdown_to_ipynb', [document.getElementById('markdownInput').value], {})\">\n",
    "Generate Notebook and Download\n",
    "</button>\n",
    "\"\"\"\n",
    "display(HTML(html_ui))\n",
    "\n",
    "# Step 2: Define conversion function\n",
    "def convert_markdown_to_ipynb(markdown_text):\n",
    "    lines = markdown_text.split('\\n')\n",
    "    cells = []\n",
    "    current_cell_lines = []\n",
    "    cell_type = 'markdown'\n",
    "\n",
    "    for line in lines:\n",
    "        if line.strip().startswith(\"```\"):\n",
    "            if current_cell_lines:\n",
    "                cells.append(\n",
    "                    nbf.v4.new_markdown_cell('\\n'.join(current_cell_lines)) if cell_type == 'markdown'\n",
    "                    else nbf.v4.new_code_cell('\\n'.join(current_cell_lines))\n",
    "                )\n",
    "                current_cell_lines = []\n",
    "            cell_type = 'code' if cell_type == 'markdown' else 'markdown'\n",
    "        else:\n",
    "            current_cell_lines.append(line)\n",
    "\n",
    "    if current_cell_lines:\n",
    "        cells.append(\n",
    "            nbf.v4.new_markdown_cell('\\n'.join(current_cell_lines)) if cell_type == 'markdown'\n",
    "            else nbf.v4.new_code_cell('\\n'.join(current_cell_lines))\n",
    "        )\n",
    "\n",
    "    # Create notebook\n",
    "    nb = nbf.v4.new_notebook()\n",
    "    nb['cells'] = cells\n",
    "    nb['metadata'] = {\n",
    "        \"kernelspec\": {\n",
    "            \"display_name\": \"Python 3\",\n",
    "            \"language\": \"python\",\n",
    "            \"name\": \"python3\"\n",
    "        },\n",
    "        \"language_info\": {\n",
    "            \"name\": \"python\",\n",
    "            \"version\": \"3.10\"\n",
    "        }\n",
    "    }\n",
    "\n",
    "    filename = f\"generated_{uuid.uuid4().hex[:6]}.ipynb\"\n",
    "    with open(filename, 'w', encoding='utf-8') as f:\n",
    "        nbf.write(nb, f)\n",
    "\n",
    "    files.download(filename)\n",
    "\n",
    "# Step 3: Register callback\n",
    "from google.colab import output\n",
    "output.register_callback('notebook.convert_markdown_to_ipynb', convert_markdown_to_ipynb)"
   ]
  },
  {
   "cell_type": "markdown",
   "id": "5dae6db7",
   "metadata": {},
   "source": [
    "<details open>\n",
    "<summary><strong>💾 Step 3: Save the Notebook</strong></summary>\n",
    "\n",
    "- Rename the notebook as:  \n",
    "  `convert_txt_to_notebook.ipynb`\n",
    "- Save it by going to:  \n",
    "  **File > Save a copy in GitHub**\n",
    "- Choose your repository (e.g., `ai_for_dld_udemy`) and folder (e.g., `colab/`)\n",
    "- Commit the file with a message like: \"Added personal markdown-to-notebook converter\"\n",
    "\n",
    "</details>"
   ]
  },
  {
   "cell_type": "markdown",
   "id": "ac8fbe91",
   "metadata": {},
   "source": [
    "<details open>\n",
    "<summary><strong>🔗 Step 4: Generate the Reusable Colab Link</strong></summary>\n",
    "\n",
    "Once uploaded, create your personal Colab link using the format:\n",
    "\n",
    "`[▶️ Open My Markdown Converter](https://colab.research.google.com/github/<your-username>/<your-repo>/blob/main/<path>/<filename>.ipynb)`\n",
    "\n",
    "This link will open the uploaded notebook directly in Colab — ready for reuse in other lectures.\n",
    "\n",
    "</details>"
   ]
  },
  {
   "cell_type": "markdown",
   "id": "2b93c784",
   "metadata": {},
   "source": [
    "<details open>\n",
    "<summary><strong>✅ 5. Outcome of This Lecture</strong></summary>\n",
    "\n",
    "By the end of this lecture, you are now able to:\n",
    "\n",
    "- ✅ Explain why we convert `.txt` markdown files to `.ipynb` notebooks  \n",
    "- ✅ Use a Colab-based Python script to perform this conversion without any local installation  \n",
    "- ✅ Save the converted notebook and upload it to GitHub  \n",
    "- ✅ Generate a Colab-compatible URL that allows anyone to open the notebook instantly\n",
    "\n",
    "</details>"
   ]
  },
  {
   "cell_type": "markdown",
   "id": "6b54bd75",
   "metadata": {},
   "source": [
    "<details open>\n",
    "<summary><strong>🙏 6. Thank You</strong></summary>\n",
    "\n",
    "Thank you for completing this foundational lecture on notebook generation.\n",
    "\n",
    "In the next lecture, you’ll use this converter to generate your first HDL-based design notebook from a set of AI-generated prompts.\n",
    "\n",
    "Let’s build your **AI-powered HDL design workflow**, one notebook at a time!\n",
    "\n",
    "</details>"
   ]
  }
 ],
 "metadata": {
  "kernelspec": {
   "display_name": "Python 3",
   "language": "python",
   "name": "python3"
  },
  "language_info": {
   "name": "python",
   "version": "3.10"
  }
 },
 "nbformat": 4,
 "nbformat_minor": 5
}
